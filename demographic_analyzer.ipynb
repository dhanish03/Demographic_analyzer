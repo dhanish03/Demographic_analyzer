{
  "nbformat": 4,
  "nbformat_minor": 0,
  "metadata": {
    "colab": {
      "provenance": []
    },
    "kernelspec": {
      "name": "python3",
      "display_name": "Python 3"
    },
    "language_info": {
      "name": "python"
    }
  },
  "cells": [
    {
      "cell_type": "code",
      "execution_count": 5,
      "metadata": {
        "id": "CoGjuI3vQuWA"
      },
      "outputs": [],
      "source": [
        "#import libraries\n",
        "import pandas as pd\n"
      ]
    },
    {
      "cell_type": "code",
      "source": [
        "url = 'https://archive.ics.uci.edu/ml/machine-learning-databases/adult/adult.data'\n",
        "column_names = ['age', 'workclass', 'fnlwgt', 'education', 'education-num',\n",
        "                'marital-status', 'occupation', 'relationship', 'race',\n",
        "                'sex', 'capital-gain', 'capital-loss', 'hours-per-week',\n",
        "                'native-country', 'salary']\n",
        "# Read the CSV file\n",
        "df = pd.read_csv(url, header=None, names=column_names, na_values=' ?', skipinitialspace=True)\n"
      ],
      "metadata": {
        "id": "HKgWT96DQytS"
      },
      "execution_count": 2,
      "outputs": []
    },
    {
      "cell_type": "code",
      "source": [
        "# 1. How many people of each race are represented in this dataset?\n",
        "race_count = df['race'].value_counts()\n",
        "\n",
        "# 2. What is the average age of men?\n",
        "average_age_men = df[df['sex'] == 'Male']['age'].mean()\n",
        "\n",
        "# 3. What is the percentage of people who have a Bachelor's degree?\n",
        "bachelors_percentage = (df['education'] == 'Bachelors').mean() * 100\n",
        "\n",
        "# 4. What percentage of people with advanced education (Bachelors, Masters, or Doctorate) make more than 50K?\n",
        "advanced_education = df['education'].isin(['Bachelors', 'Masters', 'Doctorate'])\n",
        "percentage_advanced_salary = (df[advanced_education]['salary'] == '>50K').mean() * 100\n",
        "\n",
        "# 5. What percentage of people without advanced education make more than 50K?\n",
        "non_advanced_education = ~advanced_education\n",
        "percentage_non_advanced_salary = (df[non_advanced_education]['salary'] == '>50K').mean() * 100\n",
        "\n",
        "# 6. What is the minimum number of hours a person works per week?\n",
        "min_hours_per_week = df['hours-per-week'].min()\n",
        "\n",
        "# 7. What percentage of the people who work the minimum number of hours per week have a salary of more than 50K?\n",
        "min_hours_salary_percentage = (df[df['hours-per-week'] == min_hours_per_week]['salary'] == '>50K').mean() * 100\n",
        "\n",
        "# 8. What country has the highest percentage of people that earn >50K and what is that percentage?\n",
        "country_salary_count = df[df['salary'] == '>50K']['native-country'].value_counts(normalize=True) * 100\n",
        "highest_earning_country = country_salary_count.idxmax()\n",
        "highest_percentage = country_salary_count.max()\n",
        "\n",
        "# 9. Identify the most popular occupation for those who earn >50K in India.\n",
        "most_popular_occupation_india = df[(df['salary'] == '>50K') & (df['native-country'] == 'India')]['occupation'].value_counts().idxmax()\n",
        "\n",
        "# Output results\n",
        "print(\"Race count:\\n\", race_count)\n",
        "print(\"Average age of men:\", average_age_men)\n",
        "print(\"Percentage of people with Bachelor's degree:\", round(bachelors_percentage, 1))\n",
        "print(\"Percentage of people with advanced education earning >50K:\", round(percentage_advanced_salary, 1))\n",
        "print(\"Percentage of people without advanced education earning >50K:\", round(percentage_non_advanced_salary, 1))\n",
        "print(\"Minimum hours per week:\", min_hours_per_week)\n",
        "print(\"Percentage of minimum hours worked earning >50K:\", round(min_hours_salary_percentage, 1))\n",
        "print(\"Country with highest percentage earning >50K:\", highest_earning_country, \"with percentage:\", round(highest_percentage, 1))\n",
        "print(\"Most popular occupation for those earning >50K in India:\", most_popular_occupation_india)\n"
      ],
      "metadata": {
        "colab": {
          "base_uri": "https://localhost:8080/"
        },
        "id": "vGEK_KmoQ8hZ",
        "outputId": "8413b4b7-53cd-4bdd-f869-7a6531b3f899"
      },
      "execution_count": 3,
      "outputs": [
        {
          "output_type": "stream",
          "name": "stdout",
          "text": [
            "Race count:\n",
            " race\n",
            "White                 27816\n",
            "Black                  3124\n",
            "Asian-Pac-Islander     1039\n",
            "Amer-Indian-Eskimo      311\n",
            "Other                   271\n",
            "Name: count, dtype: int64\n",
            "Average age of men: 39.43354749885268\n",
            "Percentage of people with Bachelor's degree: 16.4\n",
            "Percentage of people with advanced education earning >50K: 46.5\n",
            "Percentage of people without advanced education earning >50K: 17.4\n",
            "Minimum hours per week: 1\n",
            "Percentage of minimum hours worked earning >50K: 10.0\n",
            "Country with highest percentage earning >50K: United-States with percentage: 91.5\n",
            "Most popular occupation for those earning >50K in India: Prof-specialty\n"
          ]
        }
      ]
    }
  ]
}